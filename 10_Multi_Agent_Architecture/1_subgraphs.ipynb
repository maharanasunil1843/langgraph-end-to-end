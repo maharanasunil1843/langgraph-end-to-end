{
 "cells": [
  {
   "cell_type": "code",
   "execution_count": 6,
   "id": "a10a5003",
   "metadata": {},
   "outputs": [
    {
     "name": "stderr",
     "output_type": "stream",
     "text": [
      "/tmp/ipykernel_68712/4144572755.py:14: LangChainDeprecationWarning: The class `TavilySearchResults` was deprecated in LangChain 0.3.25 and will be removed in 1.0. An updated version of the class exists in the :class:`~langchain-tavily package and should be used instead. To use it run `pip install -U :class:`~langchain-tavily` and import as `from :class:`~langchain_tavily import TavilySearch``.\n",
      "  search_tool = TavilySearchResults(max_results=2)\n"
     ]
    }
   ],
   "source": [
    "from typing import TypedDict, Annotated\n",
    "from langgraph.graph import add_messages, StateGraph, END\n",
    "from langchain_groq import ChatGroq\n",
    "from langchain_core.messages import AIMessage, HumanMessage\n",
    "from dotenv import load_dotenv\n",
    "from langchain_community.tools.tavily_search import TavilySearchResults\n",
    "from langgraph.prebuilt import ToolNode\n",
    "\n",
    "load_dotenv()\n",
    "\n",
    "class ChildState(TypedDict):\n",
    "    messages: Annotated[list, add_messages]\n",
    "\n",
    "search_tool = TavilySearchResults(max_results=2)\n",
    "tools = [search_tool]\n",
    "\n",
    "llm = ChatGroq(model=\"llama-3.1-8b-instant\")\n",
    "\n",
    "llm_with_tools = llm.bind_tools(tools=tools)\n",
    "\n",
    "def agent(state: ChildState):\n",
    "    return {\n",
    "        \"messages\": [llm_with_tools.invoke(state[\"messages\"])], \n",
    "    }\n",
    "\n",
    "def tools_router(state: ChildState):\n",
    "    last_message = state[\"messages\"][-1]\n",
    "\n",
    "    if(hasattr(last_message, \"tool_calls\") and len(last_message.tool_calls) > 0):\n",
    "        return \"tool_node\"\n",
    "    else: \n",
    "        return END\n",
    "    \n",
    "\n",
    "tool_node = ToolNode(tools=tools)\n",
    "\n",
    "subgraph = StateGraph(ChildState)\n",
    "\n",
    "subgraph.add_node(\"agent\", agent)\n",
    "subgraph.add_node(\"tool_node\", tool_node)\n",
    "subgraph.set_entry_point(\"agent\")\n",
    "\n",
    "subgraph.add_conditional_edges(\"agent\", tools_router)\n",
    "subgraph.add_edge(\"tool_node\", \"agent\")\n",
    "\n",
    "search_app = subgraph.compile()"
   ]
  },
  {
   "cell_type": "code",
   "execution_count": 7,
   "id": "9dfedfd3",
   "metadata": {},
   "outputs": [
    {
     "data": {
      "image/png": "[encoded data removed]",
      "text/plain": [
       "<IPython.core.display.Image object>"
      ]
     },
     "metadata": {},
     "output_type": "display_data"
    }
   ],
   "source": [
    "from IPython.display import Image, display\n",
    "from langchain_core.runnables.graph import MermaidDrawMethod\n",
    "\n",
    "display(\n",
    "    Image(\n",
    "        search_app.get_graph().draw_mermaid_png(\n",
    "            draw_method=MermaidDrawMethod.API\n",
    "        )\n",
    "    )\n",
    ")"
   ]
  },
  {
   "cell_type": "code",
   "execution_count": 9,
   "id": "d164e722",
   "metadata": {},
   "outputs": [],
   "source": [
    "response = search_app.invoke({\"messages\": [HumanMessage(content=\"How is the weather in Chennai?\")]})"
   ]
  },
  {
   "cell_type": "code",
   "execution_count": 10,
   "id": "a5be0dc4",
   "metadata": {},
   "outputs": [
    {
     "data": {
      "text/plain": [
       "{'messages': [HumanMessage(content='How is the weather in Chennai?', additional_kwargs={}, response_metadata={}, id='2a67c2e1-a41f-4b61-9b84-011058b59f89'),\n",
       "  AIMessage(content='', additional_kwargs={'tool_calls': [{'id': 'yae7sxy20', 'function': {'arguments': '{\"query\":\"current weather in Chennai\"}', 'name': 'tavily_search_results_json'}, 'type': 'function'}]}, response_metadata={'token_usage': {'completion_tokens': 21, 'prompt_tokens': 569, 'total_tokens': 590, 'completion_time': 0.028164241, 'prompt_time': 0.033920482, 'queue_time': -0.064044092, 'total_time': 0.062084723}, 'model_name': 'llama-3.1-8b-instant', 'system_fingerprint': 'fp_8ab2e50475', 'service_tier': 'on_demand', 'finish_reason': 'tool_calls', 'logprobs': None}, id='run--79b074de-962b-4eee-8fb0-b6f1bffd6ab6-0', tool_calls=[{'name': 'tavily_search_results_json', 'args': {'query': 'current weather in Chennai'}, 'id': 'yae7sxy20', 'type': 'tool_call'}], usage_metadata={'input_tokens': 569, 'output_tokens': 21, 'total_tokens': 590}),\n",
       "  ToolMessage(content='[{\"title\": \"Chennai weather in July 2025 - Weather25.com\", \"url\": \"https://www.weather25.com/asia/india/tamil-nadu/chennai?page=month&month=July\", \"content\": \"weather25.com\\\\nSearch\\\\nweather in India\\\\nRemove from your favorite locations\\\\nAdd to my locations\\\\nShare\\\\nweather in India\\\\n\\\\n# Chennai weather in July 2025\\\\n\\\\nCloudy\\\\nPatchy rain possible\\\\nPatchy rain possible\\\\nLight rain shower\\\\nModerate rain\\\\nLight rain shower\\\\nLight rain shower\\\\nLight rain shower\\\\nPatchy light drizzle\\\\nPatchy light drizzle\\\\nPartly cloudy\\\\nPatchy light drizzle\\\\nLight drizzle\\\\nCloudy\\\\n\\\\n## The average weather in Chennai in July [...] | 27 Cloudy 28° /25° | 28 Partly cloudy 34° /28° | 29 Thundery outbreaks possible 35° /28° | 30 Partly cloudy 34° /28° | 31 Thundery outbreaks possible 34° /28° |  |  | [...] | Sun | Mon | Tue | Wed | Thu | Fri | Sat |\\\\n| --- | --- | --- | --- | --- | --- | --- |\\\\n|  |  | 1 Moderate or heavy rain shower 32° /27° | 2 Patchy rain possible 33° /28° | 3 Light rain shower 32° /27° | 4 Overcast 33° /27° | 5 Light rain shower 34° /27° |\\\\n| 6 Patchy rain possible 32° /26° | 7 Patchy rain possible 33° /26° | 8 Light rain shower 32° /27° | 9 Light rain shower 33° /28° | 10 Cloudy 32° /28° | 11 Light rain shower 31° /27° | 12 Patchy rain possible 32° /27° |\", \"score\": 0.843393}, {\"title\": \"Chennai weather forecast: Warm and humid with high chance of rain ...\", \"url\": \"https://timesofindia.indiatimes.com/city/chennai/chennai-weather-forecast-hot-and-humid-with-rain-showers-expected-this-week/articleshow/122426333.cms\", \"content\": \"Numerology Predictions Today, July 14, 2025: Read your personalized forecast for numbers 1 to 9\\\\n7 dreamy villages in Europe that steal the show\\\\nThese 7 Snakes Swim So Smoothly, Youâ\\x80\\x99d Mistake Them for Fish\\\\n5 times Bollywood actresses gave a new meaning to the Banarasi drape\\\\nMeasles spreading in the US: 5 simple tips to stay safe right now\\\\nThe Shah Rukh Khan moment that changed Ashish Chanchlaniâ\\x80\\x99s life: 5 things he rigorously followed to lose 40 kilos in 6 months [...] Iconic fashion moments spotted at BLACKPINKâ\\x80\\x99s 2025 Deadline World Tour\\\\n\\\\n\\'Aap Jaisa Koi\\' actress Fatima Sana Shaikh\\'s most stunning suit looks\\\\n\\\\nManasi Parekh\\'s radiant charm - In pics\\\\n\\\\n\\'Dhadak 2\\' star Tripti Dimri\\'s most stunning no-makeup looks\\\\n\\\\n9 quotes that feel like poetry for the soul\\\\n\\\\n10 things to know before getting Lovebirds as pets\\\\n\\\\n## Photostories [...] TOI logo\\\\n\\\\n## TOI\\\\n\\\\n# Chennai weather forecast: Warm and humid with high chance of rain this week\\\\n\\\\nChennai weather forecast: Warm and humid with high chance of rain this week\\\\n\\\\n### Advice for Residents\\\\n\\\\n### Mid-Week Outlook\\\\n\\\\n### Significant Weather Shift Expected\\\\n\\\\n## Visual Stories\\\\n\\\\nMeenakshi Chaudhary\\'s glamorous clicks\\\\n\\\\nHiba Nawabâ\\x80\\x99s Colourful Escape to the Maldives\\\\n\\\\n10 pet-friendly balcony plants (and what to avoid)\\\\n\\\\n10 diet tips to boost immunity this monsoon\", \"score\": 0.7485182}]', name='tavily_search_results_json', id='db074577-1f2f-4bbf-ad0c-03e9bd706600', tool_call_id='yae7sxy20', artifact={'query': 'current weather in Chennai', 'follow_up_questions': None, 'answer': None, 'images': [], 'results': [{'url': 'https://www.weather25.com/asia/india/tamil-nadu/chennai?page=month&month=July', 'title': 'Chennai weather in July 2025 - Weather25.com', 'content': 'weather25.com\\nSearch\\nweather in India\\nRemove from your favorite locations\\nAdd to my locations\\nShare\\nweather in India\\n\\n# Chennai weather in July 2025\\n\\nCloudy\\nPatchy rain possible\\nPatchy rain possible\\nLight rain shower\\nModerate rain\\nLight rain shower\\nLight rain shower\\nLight rain shower\\nPatchy light drizzle\\nPatchy light drizzle\\nPartly cloudy\\nPatchy light drizzle\\nLight drizzle\\nCloudy\\n\\n## The average weather in Chennai in July [...] | 27 Cloudy 28° /25° | 28 Partly cloudy 34° /28° | 29 Thundery outbreaks possible 35° /28° | 30 Partly cloudy 34° /28° | 31 Thundery outbreaks possible 34° /28° |  |  | [...] | Sun | Mon | Tue | Wed | Thu | Fri | Sat |\\n| --- | --- | --- | --- | --- | --- | --- |\\n|  |  | 1 Moderate or heavy rain shower 32° /27° | 2 Patchy rain possible 33° /28° | 3 Light rain shower 32° /27° | 4 Overcast 33° /27° | 5 Light rain shower 34° /27° |\\n| 6 Patchy rain possible 32° /26° | 7 Patchy rain possible 33° /26° | 8 Light rain shower 32° /27° | 9 Light rain shower 33° /28° | 10 Cloudy 32° /28° | 11 Light rain shower 31° /27° | 12 Patchy rain possible 32° /27° |', 'score': 0.843393, 'raw_content': None}, {'url': 'https://timesofindia.indiatimes.com/city/chennai/chennai-weather-forecast-hot-and-humid-with-rain-showers-expected-this-week/articleshow/122426333.cms', 'title': 'Chennai weather forecast: Warm and humid with high chance of rain ...', 'content': \"Numerology Predictions Today, July 14, 2025: Read your personalized forecast for numbers 1 to 9\\n7 dreamy villages in Europe that steal the show\\nThese 7 Snakes Swim So Smoothly, Youâ\\x80\\x99d Mistake Them for Fish\\n5 times Bollywood actresses gave a new meaning to the Banarasi drape\\nMeasles spreading in the US: 5 simple tips to stay safe right now\\nThe Shah Rukh Khan moment that changed Ashish Chanchlaniâ\\x80\\x99s life: 5 things he rigorously followed to lose 40 kilos in 6 months [...] Iconic fashion moments spotted at BLACKPINKâ\\x80\\x99s 2025 Deadline World Tour\\n\\n'Aap Jaisa Koi' actress Fatima Sana Shaikh's most stunning suit looks\\n\\nManasi Parekh's radiant charm - In pics\\n\\n'Dhadak 2' star Tripti Dimri's most stunning no-makeup looks\\n\\n9 quotes that feel like poetry for the soul\\n\\n10 things to know before getting Lovebirds as pets\\n\\n## Photostories [...] TOI logo\\n\\n## TOI\\n\\n# Chennai weather forecast: Warm and humid with high chance of rain this week\\n\\nChennai weather forecast: Warm and humid with high chance of rain this week\\n\\n### Advice for Residents\\n\\n### Mid-Week Outlook\\n\\n### Significant Weather Shift Expected\\n\\n## Visual Stories\\n\\nMeenakshi Chaudhary's glamorous clicks\\n\\nHiba Nawabâ\\x80\\x99s Colourful Escape to the Maldives\\n\\n10 pet-friendly balcony plants (and what to avoid)\\n\\n10 diet tips to boost immunity this monsoon\", 'score': 0.7485182, 'raw_content': None}], 'response_time': 4.03}),\n",
       "  AIMessage(content='The current weather in Chennai is expected to be warm and humid with a high chance of rain this week.', additional_kwargs={}, response_metadata={'token_usage': {'completion_tokens': 22, 'prompt_tokens': 1175, 'total_tokens': 1197, 'completion_time': 0.029912977, 'prompt_time': 0.073350096, 'queue_time': 0.06209388299999999, 'total_time': 0.103263073}, 'model_name': 'llama-3.1-8b-instant', 'system_fingerprint': 'fp_8ab2e50475', 'service_tier': 'on_demand', 'finish_reason': 'stop', 'logprobs': None}, id='run--cc9b2809-170c-4930-8f89-55d626fd50f5-0', usage_metadata={'input_tokens': 1175, 'output_tokens': 22, 'total_tokens': 1197})]}"
      ]
     },
     "execution_count": 10,
     "metadata": {},
     "output_type": "execute_result"
    }
   ],
   "source": [
    "response"
   ]
  },
  {
   "cell_type": "markdown",
   "id": "192c8107",
   "metadata": {},
   "source": [
    "### Case 1: Same Schema (Direct Embedding)"
   ]
  },
  {
   "cell_type": "code",
   "execution_count": 11,
   "id": "2397867e",
   "metadata": {},
   "outputs": [],
   "source": [
    "from typing import TypedDict, Annotated\n",
    "from langgraph.graph import add_messages, StateGraph, START, END\n",
    "from langchain_core.messages import HumanMessage\n",
    "\n",
    "# Define parent graph with the same schema\n",
    "class ParentState(TypedDict):\n",
    "    messages: Annotated[list, add_messages]\n",
    "\n",
    "# Create parent graph\n",
    "parent_graph = StateGraph(ParentState)\n",
    "\n",
    "# Add the subgraph as a node\n",
    "parent_graph.add_node(\"search_agent\", search_app)\n",
    "\n",
    "# Connect the flow\n",
    "parent_graph.add_edge(START, \"search_agent\")\n",
    "parent_graph.add_edge(\"search_agent\", END)\n",
    "\n",
    "# Compile parent graph\n",
    "parent_app = parent_graph.compile()"
   ]
  },
  {
   "cell_type": "code",
   "execution_count": 12,
   "id": "a65619dc",
   "metadata": {},
   "outputs": [
    {
     "data": {
      "image/png": "[encoded data removed]",
      "text/plain": [
       "<IPython.core.display.Image object>"
      ]
     },
     "metadata": {},
     "output_type": "display_data"
    }
   ],
   "source": [
    "from IPython.display import Image, display\n",
    "from langchain_core.runnables.graph import MermaidDrawMethod\n",
    "\n",
    "display(\n",
    "    Image(\n",
    "        parent_app.get_graph().draw_mermaid_png(\n",
    "            draw_method=MermaidDrawMethod.API\n",
    "        )\n",
    "    )\n",
    ")"
   ]
  },
  {
   "cell_type": "code",
   "execution_count": 13,
   "id": "b0f76349",
   "metadata": {},
   "outputs": [
    {
     "data": {
      "text/plain": [
       "{'messages': [HumanMessage(content='How is the weather in Chennai?', additional_kwargs={}, response_metadata={}, id='87a212f8-f9da-4eed-89f6-2848843fea17'),\n",
       "  AIMessage(content='', additional_kwargs={'tool_calls': [{'id': '3fz8whvaj', 'function': {'arguments': '{\"query\":\"Chennai weather\"}', 'name': 'tavily_search_results_json'}, 'type': 'function'}]}, response_metadata={'token_usage': {'completion_tokens': 20, 'prompt_tokens': 285, 'total_tokens': 305, 'completion_time': 0.04026173, 'prompt_time': 0.016925835, 'queue_time': 0.05388688899999999, 'total_time': 0.057187565}, 'model_name': 'llama-3.1-8b-instant', 'system_fingerprint': 'fp_8ab2e50475', 'service_tier': 'on_demand', 'finish_reason': 'tool_calls', 'logprobs': None}, id='run--8323c194-a14b-47e9-b06c-60d8956d1462-0', tool_calls=[{'name': 'tavily_search_results_json', 'args': {'query': 'Chennai weather'}, 'id': '3fz8whvaj', 'type': 'tool_call'}], usage_metadata={'input_tokens': 285, 'output_tokens': 20, 'total_tokens': 305}),\n",
       "  ToolMessage(content='[{\"title\": \"Chennai weather in July 2025 - Weather25.com\", \"url\": \"https://www.weather25.com/asia/india/tamil-nadu/chennai?page=month&month=July\", \"content\": \"weather25.com\\\\nSearch\\\\nweather in India\\\\nRemove from your favorite locations\\\\nAdd to my locations\\\\nShare\\\\nweather in India\\\\n\\\\n# Chennai weather in July 2025\\\\n\\\\nCloudy\\\\nPatchy rain possible\\\\nPatchy rain possible\\\\nLight rain shower\\\\nModerate rain\\\\nLight rain shower\\\\nLight rain shower\\\\nLight rain shower\\\\nPatchy light drizzle\\\\nPatchy light drizzle\\\\nPartly cloudy\\\\nPatchy light drizzle\\\\nLight drizzle\\\\nCloudy\\\\n\\\\n## The average weather in Chennai in July [...] If you’re planning to visit Chennai in the near future, we highly recommend that you review the 14 day weather forecast for Chennai before you arrive.\\\\n\\\\nTemperatures\\\\nRainy Days\\\\nSnowy Days\\\\nDry Days\\\\nRainfall\\\\n11.4 [...] Moderate or heavy rain shower\\\\nPatchy rain possible\\\\nLight rain shower\\\\nOvercast\\\\nLight rain shower\\\\nPatchy rain possible\\\\nPatchy rain possible\\\\nLight rain shower\\\\nLight rain shower\\\\nCloudy\\\\nLight rain shower\\\\nPatchy rain possible\\\\nLight rain shower\\\\nCloudy\\\\nPatchy rain possible\\\\nPatchy rain possible\\\\nLight rain shower\\\\nModerate rain\\\\nLight rain shower\\\\nLight rain shower\\\\nLight rain shower\\\\nPatchy light drizzle\\\\nPatchy light drizzle\\\\nPartly cloudy\\\\nPatchy light drizzle\\\\nLight drizzle\\\\nCloudy\\\\nPartly cloudy\", \"score\": 0.90432173}, {\"title\": \"Chennai, Tamil Nadu, India Monthly Weather - AccuWeather\", \"url\": \"https://www.accuweather.com/en/in/chennai/206671/july-weather/206671\", \"content\": \"JanuaryFebruaryMarchAprilMayJuneJulyAugustSeptemberOctoberNovemberDecember\\\\n\\\\n2025\\\\n----\\\\n\\\\n202420252026\\\\n\\\\nDaily -----\\\\n\\\\n S \\\\n\\\\n M \\\\n\\\\n T \\\\n\\\\n W \\\\n\\\\n T \\\\n\\\\n F \\\\n\\\\n S \\\\n\\\\n29 98° 81°30 97° 82°1 98° 81°2 97° 80°3 95° 79°4 94° 80°5 94° 79°6 95° 79°7 94° 81°8 94° 83°9 95° 80°10 95° 80°11 93° 78°12 92° 79°13 93° 78°14 92° 78°15 92° 79°16 94° 80°17 93° 79°18 92° 79°19 91° 80°20 92° 78°21 92° 79°22 93° 79°23 92° 80°24 92° 79°25 93° 80°26 92° 81°27 92° 78°28 91° 79°29 91° 79°30 92° 81°31 92° 80°1 96° 80°2 95° 81° [...] © 2025 AccuWeather, Inc. \\\\\"AccuWeather\\\\\" and sun design are registered trademarks of AccuWeather, Inc. All Rights Reserved. \\\\n\\\\nTerms of Use | Privacy Policy | Cookie Policy|About Your Privacy Do Not Sell or Share My Personal Information\\\\n\\\\nGet AccuWeather alerts as they happen with our browser notifications.\\\\n\\\\nEnable Notifications\\\\n\\\\nNo, Thanks\\\\n\\\\nNotifications Enabled\\\\n\\\\nThanks! We\\'ll keep you informed. [...] Temperature Graph\\\\n-----------------\\\\n\\\\n°F\\\\n\\\\nAvg. Hi\\\\n\\\\nAvg. Lo\\\\n\\\\nActual Hi\\\\n\\\\nActual Lo\\\\n\\\\nForecast Hi\\\\n\\\\nForecast Lo\\\\n\\\\nFurther Ahead\\\\n-------------\\\\n\\\\n### August 2025### September 2025\\\\n\\\\nAround the Globe\\\\n----------------\\\\n\\\\n### Hurricane Tracker### Severe Weather### Radar & Maps### News### Video\\\\n\\\\nTop Stories\", \"score\": 0.6844544}]', name='tavily_search_results_json', id='b942db80-6b21-4abf-ac0b-01ed7457c324', tool_call_id='3fz8whvaj', artifact={'query': 'Chennai weather', 'follow_up_questions': None, 'answer': None, 'images': [], 'results': [{'url': 'https://www.weather25.com/asia/india/tamil-nadu/chennai?page=month&month=July', 'title': 'Chennai weather in July 2025 - Weather25.com', 'content': 'weather25.com\\nSearch\\nweather in India\\nRemove from your favorite locations\\nAdd to my locations\\nShare\\nweather in India\\n\\n# Chennai weather in July 2025\\n\\nCloudy\\nPatchy rain possible\\nPatchy rain possible\\nLight rain shower\\nModerate rain\\nLight rain shower\\nLight rain shower\\nLight rain shower\\nPatchy light drizzle\\nPatchy light drizzle\\nPartly cloudy\\nPatchy light drizzle\\nLight drizzle\\nCloudy\\n\\n## The average weather in Chennai in July [...] If you’re planning to visit Chennai in the near future, we highly recommend that you review the 14 day weather forecast for Chennai before you arrive.\\n\\nTemperatures\\nRainy Days\\nSnowy Days\\nDry Days\\nRainfall\\n11.4 [...] Moderate or heavy rain shower\\nPatchy rain possible\\nLight rain shower\\nOvercast\\nLight rain shower\\nPatchy rain possible\\nPatchy rain possible\\nLight rain shower\\nLight rain shower\\nCloudy\\nLight rain shower\\nPatchy rain possible\\nLight rain shower\\nCloudy\\nPatchy rain possible\\nPatchy rain possible\\nLight rain shower\\nModerate rain\\nLight rain shower\\nLight rain shower\\nLight rain shower\\nPatchy light drizzle\\nPatchy light drizzle\\nPartly cloudy\\nPatchy light drizzle\\nLight drizzle\\nCloudy\\nPartly cloudy', 'score': 0.90432173, 'raw_content': None}, {'url': 'https://www.accuweather.com/en/in/chennai/206671/july-weather/206671', 'title': 'Chennai, Tamil Nadu, India Monthly Weather - AccuWeather', 'content': 'JanuaryFebruaryMarchAprilMayJuneJulyAugustSeptemberOctoberNovemberDecember\\n\\n2025\\n----\\n\\n202420252026\\n\\nDaily -----\\n\\n S \\n\\n M \\n\\n T \\n\\n W \\n\\n T \\n\\n F \\n\\n S \\n\\n29 98° 81°30 97° 82°1 98° 81°2 97° 80°3 95° 79°4 94° 80°5 94° 79°6 95° 79°7 94° 81°8 94° 83°9 95° 80°10 95° 80°11 93° 78°12 92° 79°13 93° 78°14 92° 78°15 92° 79°16 94° 80°17 93° 79°18 92° 79°19 91° 80°20 92° 78°21 92° 79°22 93° 79°23 92° 80°24 92° 79°25 93° 80°26 92° 81°27 92° 78°28 91° 79°29 91° 79°30 92° 81°31 92° 80°1 96° 80°2 95° 81° [...] © 2025 AccuWeather, Inc. \"AccuWeather\" and sun design are registered trademarks of AccuWeather, Inc. All Rights Reserved. \\n\\nTerms of Use | Privacy Policy | Cookie Policy|About Your Privacy Do Not Sell or Share My Personal Information\\n\\nGet AccuWeather alerts as they happen with our browser notifications.\\n\\nEnable Notifications\\n\\nNo, Thanks\\n\\nNotifications Enabled\\n\\nThanks! We\\'ll keep you informed. [...] Temperature Graph\\n-----------------\\n\\n°F\\n\\nAvg. Hi\\n\\nAvg. Lo\\n\\nActual Hi\\n\\nActual Lo\\n\\nForecast Hi\\n\\nForecast Lo\\n\\nFurther Ahead\\n-------------\\n\\n### August 2025### September 2025\\n\\nAround the Globe\\n----------------\\n\\n### Hurricane Tracker### Severe Weather### Radar & Maps### News### Video\\n\\nTop Stories', 'score': 0.6844544, 'raw_content': None}], 'response_time': 1.37}),\n",
       "  AIMessage(content='The current weather in Chennai is cloudy with patchy rain possible. The temperature is around 30-35°C. It is recommended to check the 14-day weather forecast before visiting Chennai.', additional_kwargs={}, response_metadata={'token_usage': {'completion_tokens': 39, 'prompt_tokens': 1204, 'total_tokens': 1243, 'completion_time': 0.088111929, 'prompt_time': 0.075402486, 'queue_time': 0.061521722999999987, 'total_time': 0.163514415}, 'model_name': 'llama-3.1-8b-instant', 'system_fingerprint': 'fp_510c177af0', 'service_tier': 'on_demand', 'finish_reason': 'stop', 'logprobs': None}, id='run--d6a77471-a52a-4df8-818d-767083105d72-0', usage_metadata={'input_tokens': 1204, 'output_tokens': 39, 'total_tokens': 1243})]}"
      ]
     },
     "execution_count": 13,
     "metadata": {},
     "output_type": "execute_result"
    }
   ],
   "source": [
    "# Run the parent graph\n",
    "result = parent_app.invoke({\"messages\": [HumanMessage(content=\"How is the weather in Chennai?\")]})\n",
    "result"
   ]
  },
  {
   "cell_type": "markdown",
   "id": "d4852cda",
   "metadata": {},
   "source": [
    "### Case 2: Different Schema (Invoking with Transformation)"
   ]
  },
  {
   "cell_type": "code",
   "execution_count": 14,
   "id": "26ca2423",
   "metadata": {},
   "outputs": [],
   "source": [
    "from typing import TypedDict, Annotated, Dict\n",
    "from langgraph.graph import StateGraph, START, END\n",
    "from langchain_core.messages import HumanMessage\n",
    "\n",
    "# Define parent graph with different schema\n",
    "class QueryState(TypedDict):\n",
    "    query: str\n",
    "    response: str\n",
    "\n",
    "# Function to invoke subgraph\n",
    "def search_agent(state: QueryState) -> Dict:\n",
    "    # Transform from parent schema to subgraph schema\n",
    "    subgraph_input = {\n",
    "        \"messages\": [HumanMessage(content=state[\"query\"])]\n",
    "    }\n",
    "    \n",
    "    # Invoke the subgraph\n",
    "    subgraph_result = search_app.invoke(subgraph_input)\n",
    "    \n",
    "    # Transform response back to parent schema\n",
    "    assistant_message = subgraph_result[\"messages\"][-1]\n",
    "    return {\"response\": assistant_message.content}\n",
    "\n",
    "# Create parent graph\n",
    "parent_graph = StateGraph(QueryState)\n",
    "\n",
    "# Add transformation node that invokes subgraph\n",
    "parent_graph.add_node(\"search_agent\", search_agent)\n",
    "\n",
    "# Connect the flow\n",
    "parent_graph.add_edge(START, \"search_agent\")\n",
    "parent_graph.add_edge(\"search_agent\", END)\n",
    "\n",
    "# Compile parent graph\n",
    "parent_app = parent_graph.compile()"
   ]
  },
  {
   "cell_type": "code",
   "execution_count": 15,
   "id": "24d8c816",
   "metadata": {},
   "outputs": [
    {
     "data": {
      "image/png": "[encoded data removed]",
      "text/plain": [
       "<IPython.core.display.Image object>"
      ]
     },
     "metadata": {},
     "output_type": "display_data"
    }
   ],
   "source": [
    "from IPython.display import Image, display\n",
    "from langchain_core.runnables.graph import MermaidDrawMethod\n",
    "\n",
    "display(\n",
    "    Image(\n",
    "        parent_app.get_graph().draw_mermaid_png(\n",
    "            draw_method=MermaidDrawMethod.API\n",
    "        )\n",
    "    )\n",
    ")"
   ]
  },
  {
   "cell_type": "code",
   "execution_count": 16,
   "id": "ff019b00",
   "metadata": {},
   "outputs": [
    {
     "name": "stdout",
     "output_type": "stream",
     "text": [
      "{'query': 'How is the weather in Chennai?', 'response': 'The weather in Chennai today is expected to be Mostly Cloudy with a maximum temperature of 37°C and a minimum of 28°C.'}\n"
     ]
    }
   ],
   "source": [
    "# Run the parent graph\n",
    "result = parent_app.invoke({\"query\": \"How is the weather in Chennai?\", \"response\": \"\"})\n",
    "print(result)"
   ]
  },
  {
   "cell_type": "code",
   "execution_count": null,
   "id": "1ba80457",
   "metadata": {},
   "outputs": [],
   "source": []
  }
 ],
 "metadata": {
  "language_info": {
   "name": "python"
  }
 },
 "nbformat": 4,
 "nbformat_minor": 5
}
